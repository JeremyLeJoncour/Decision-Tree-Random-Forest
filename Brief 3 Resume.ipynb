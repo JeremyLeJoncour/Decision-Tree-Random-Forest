{
 "cells": [
  {
   "cell_type": "markdown",
   "metadata": {},
   "source": [
    "# Apprentissage supervisé - Regression, Decision Tree Regressor, Random Forest Regressor\n",
    "\n",
    "Jérémy Le Joncour"
   ]
  },
  {
   "cell_type": "markdown",
   "metadata": {},
   "source": [
    "Notre dataset peut répondre à un problème de régression, en essayant de faire la prédiction de la *\"Median_House_Value\"* à partir de nos Features. Après un nettoyage des données pour remplir les valeurs manquantes et encoder notre Features *\"ocean_proximity\"* nous avons pu afficher un tableau de corrélation entre notre Target et nos différentes Features. Une corrélation se fait si le coefficient de Pearson est proche de 1 (Corrélation positive) ou de -1 (Corrélation inverse). Dans notre cas, la Feature *Median_Income* est la seule en corrélation élevée avec notre Target *Median_House_Value*, les autres étant proches de 0.\n",
    "\n",
    "Ce résultat peut nous donner une meilleure vision de nos données et voir comment influent les différentes Features sur notre Target."
   ]
  },
  {
   "cell_type": "markdown",
   "metadata": {},
   "source": [
    "## Decision Tree Regressor"
   ]
  },
  {
   "cell_type": "markdown",
   "metadata": {},
   "source": [
    "L'apprentissage par arbre de décision est une méthode classique en apprentissage automatique. Son but est de créer un modèle qui prédit la valeur d'une variable-cible depuis la valeur de plusieurs variables d'entrée. Le modèle est donc idéal pour traiter une Target avec plusieurs Features.\n",
    "\n",
    "L’objectif est de créer un modèle qui prédit les valeurs de la variable cible, en se basant sur un ensemble de séquences de règles de décision déduites à partir des données d’apprentissage. L’arbre approxime donc la cible par une succession de règles `if-then-else`. Ce paradigme s’applique aussi bien à des données catégorielles qu’à des données numériques.\n",
    "\n",
    "Dans notre étude, ce modèle présente une RMSE de 0, toutefois, cette valeur ne suffit pas à confirmer sa performance. Une validation croisée pour le modèle de Régression linéaire et d'Arbre de décision présente des résultats : \n",
    "\n",
    "La moyenne des RMSE du modèle Régression Linéaire est globalement similaire à la RMSE du modèle de Decision Tree Regressor. La variance de Decision Tree Regressor est quant à elle supérieure à notre modèle de Régression Linéaire (2892 contre 2534), il y a donc une plus grande dispersion de nos scores de cross validation pour le modèle de Decision Tree Regressor. \n",
    "\n",
    "En comparant les résultats d'autres personnes, il peut y avoir des différences où l'un des modèles semble plus performant que l'autre. Cela peut être du à notre test_train_split qui répartit nos données d'apprentissage de manière aléatoire. "
   ]
  },
  {
   "cell_type": "markdown",
   "metadata": {},
   "source": [
    "## Fine-Tunning"
   ]
  },
  {
   "cell_type": "markdown",
   "metadata": {},
   "source": [
    "Pour trouver un meilleur modèle nous utiliser une gestion d'un ensemble d'arbre de décision avec différents paramètres de manière aléatoire et en faire la somme, grâce au RandomForestRegressor. En incorporant des paramètres prédéfinis avec la variable `param_grid` nous pouvons trouver la meilleur combinaison grâce au GridSearch.\n",
    "\n",
    "Avec `best_params`, il s'avère que la combinaison optimale est {'max_features': 6, 'n_estimators': 30}. Notre modèle se base ainsi sur ces paramètres.\n",
    "\n",
    "Ce dernier modèle a une RMSE de 48664, nettement plus performant que nos précédents modèles possèdant une RMSE avoisinnant les 70000. Au niveau du score du modèle, elle avoisine les 82% de performance contre 65% pour les deux précédents modèles."
   ]
  },
  {
   "cell_type": "code",
   "execution_count": null,
   "metadata": {},
   "outputs": [],
   "source": []
  }
 ],
 "metadata": {
  "kernelspec": {
   "display_name": "Python 3",
   "language": "python",
   "name": "python3"
  },
  "language_info": {
   "codemirror_mode": {
    "name": "ipython",
    "version": 3
   },
   "file_extension": ".py",
   "mimetype": "text/x-python",
   "name": "python",
   "nbconvert_exporter": "python",
   "pygments_lexer": "ipython3",
   "version": "3.8.3"
  }
 },
 "nbformat": 4,
 "nbformat_minor": 4
}
